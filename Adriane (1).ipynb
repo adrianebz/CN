{
 "cells": [
  {
   "cell_type": "code",
   "execution_count": 84,
   "id": "bbff3e58",
   "metadata": {},
   "outputs": [
    {
     "name": "stdout",
     "output_type": "stream",
     "text": [
      "Número de iterações = 4\n",
      "Erro em |xk - x(k-1)| = 3.7952846235034254e-05\n",
      "Erro em |f(xk)| = 1.2534698412558498e-07 \n",
      "Raiz xk = 0.29730579433282167\n"
     ]
    }
   ],
   "source": [
    "#QUESTÃO 1\n",
    "import math\n",
    "\n",
    "def f(x):\n",
    "    return 2*x - math.cos(math.pi*x)\n",
    "k = 0\n",
    "a = 0\n",
    "b = 1\n",
    "Prec_y = 0.001\n",
    "Prec_x = 0.001\n",
    "Erro_x = abs(a-b)\n",
    "Erro_y = abs(f(a)) \n",
    "\n",
    "while Erro_x > Prec_x or Erro_y > Prec_y:\n",
    "    k += 1\n",
    "    n = float(a*f(b) - b*f(a))/(f(b)-f(a))\n",
    "    Erro_x = abs(a - n if f(n)<0 else b -n)\n",
    "    Erro_y = abs(f(n))\n",
    "    if f(n)<0:\n",
    "        a = n\n",
    "    else:\n",
    "        b = n \n",
    "print(f'Número de iterações = {k}\\nErro em |xk - x(k-1)| = {Erro_x}\\nErro em |f(xk)| = {Erro_y} \\nRaiz xk = {a}')   "
   ]
  },
  {
   "cell_type": "code",
   "execution_count": 85,
   "id": "abcc0f2f",
   "metadata": {},
   "outputs": [
    {
     "name": "stdout",
     "output_type": "stream",
     "text": [
      "Número de iterações = 3\n",
      "Erro em |xk - x(k-1)| = 4.54210349341011e-05\n",
      "Erro em |f(xk)| = 3.505530750125274e-07 \n",
      "Raiz xk = 2.9541653550039446\n"
     ]
    }
   ],
   "source": [
    "#QUESTÃO 2\n",
    "import math\n",
    "\n",
    "def f(x):\n",
    "    return x*math.log(x)-3.2\n",
    "\n",
    "k = 0\n",
    "a = 1\n",
    "b = 3\n",
    "Prec_y = 0.001\n",
    "Prec_x = 0.001\n",
    "Erro_x = abs(a-b)\n",
    "Erro_y = abs(f(a)) \n",
    "                          \n",
    "while Erro_x > Prec_x or Erro_y > Prec_y:\n",
    "    k += 1\n",
    "    n = float(a*f(b) - b*f(a))/(f(b)-f(a))\n",
    "    Erro_x = abs(a - n if f(n)<0 else b -n)\n",
    "    Erro_y = abs(f(n))\n",
    "    if f(n)<0:\n",
    "        a = n\n",
    "    else:\n",
    "        b = n \n",
    "print(f'Número de iterações = {k}\\nErro em |xk - x(k-1)| = {Erro_x}\\nErro em |f(xk)| = {Erro_y} \\nRaiz xk = {a}')   "
   ]
  },
  {
   "cell_type": "code",
   "execution_count": 86,
   "id": "2d308f4a",
   "metadata": {},
   "outputs": [
    {
     "name": "stdout",
     "output_type": "stream",
     "text": [
      "Número de iterações = 3\n",
      "Erro em |xk - x(k-1)| = 0.0002758073224409241\n",
      "Erro em |f(xk)| = 3.692919547937379e-07 \n",
      "Raiz xk = 2.9541653550039446\n"
     ]
    }
   ],
   "source": [
    "#QUESTÃO 3\n",
    "import math\n",
    "\n",
    "def f(x):\n",
    "    return x**3-2*x-1\n",
    "def f_d(x):\n",
    "    return 3*x**2-2\n",
    "\n",
    "k = 0\n",
    "a = 1.6\n",
    "Prec_y = 0.01\n",
    "Prec_x = 0.01\n",
    "Erro_x = abs(a-b)\n",
    "Erro_y = abs(f(a)) \n",
    "\n",
    "while Prec_x < Erro_x or Prec_y < Erro_y:\n",
    "    Erro_y = abs((f(a)))\n",
    "    Erro_x = abs(a - b)\n",
    "    k += 1\n",
    "    b = a\n",
    "    a = a - (f(a)/f_d(a))\n",
    "print(f'Número de iterações = {k}\\nErro em |xk - x(k-1)| = {Erro_x}\\nErro em |f(xk)| = {Erro_y} \\nRaiz xk = {n}')"
   ]
  },
  {
   "cell_type": "code",
   "execution_count": 87,
   "id": "5b5a9369",
   "metadata": {},
   "outputs": [
    {
     "name": "stdout",
     "output_type": "stream",
     "text": [
      "Número de iterações = 4\n",
      "Erro em |xk - x(k-1)| = 2.0757142982219534e-06\n",
      "Erro em |f(xk)| = 1.956726447538415e-12 \n",
      "Raiz xk = 2.9541653550039446\n"
     ]
    }
   ],
   "source": [
    "#QUESTÃO 4 - NEWTON - RAPHSON\n",
    "import math\n",
    "\n",
    "def f(x):\n",
    "    return math.exp(-(x**2))-math.cos(x)\n",
    "def f_d(x):\n",
    "    return -2*x*math.exp(-x**2) + math.sin(x)\n",
    "\n",
    "k = 0\n",
    "a = 1.5\n",
    "Prec_y = 0.0001\n",
    "Prec_x = 0.0001\n",
    "Erro_x = abs(a-b)\n",
    "Erro_y = abs(f(a)) \n",
    "\n",
    "\n",
    "while Prec_x < Erro_x or Prec_y < Erro_y:\n",
    "    Erro_y = abs((f(a)))\n",
    "    Erro_x = abs(a - b)\n",
    "    k += 1\n",
    "    b = a\n",
    "    a = a - (f(a)/f_d(a))\n",
    "print(f'Número de iterações = {k}\\nErro em |xk - x(k-1)| = {Erro_x}\\nErro em |f(xk)| = {Erro_y} \\nRaiz xk = {n}')"
   ]
  },
  {
   "cell_type": "code",
   "execution_count": 88,
   "id": "16f6d5f0",
   "metadata": {},
   "outputs": [
    {
     "name": "stdout",
     "output_type": "stream",
     "text": [
      "Número de iterações = 14\n",
      "Erro em |xk - x(k-1)| = 6.103515625e-05\n",
      "Erro em |f(xk)| = 2.192118039383295e-05 \n",
      "Raiz xk = 1.44744873046875\n"
     ]
    }
   ],
   "source": [
    "#QUESTÃO 4 - Bissecção\n",
    "import math\n",
    "\n",
    "def f(x):\n",
    "    return math.exp(-(x**2))-math.cos(x)\n",
    "\n",
    "k = 0\n",
    "a = 1\n",
    "b = 2\n",
    "Prec_y = 0.0001\n",
    "Prec_x = 0.0001\n",
    "Erro_x = abs(a-b)\n",
    "Erro_y = abs(f(a)) \n",
    "\n",
    "while Erro_x > Prec_x or Erro_y > Prec_y:\n",
    "    k += 1\n",
    "    n = (a+b)/2\n",
    "    Erro_x = abs(a - n if f(n)<0 else b -n)\n",
    "    Erro_y = abs(f(n))\n",
    "    if f(n)<0:\n",
    "        a = n\n",
    "    else:\n",
    "        b = n \n",
    "print(f'Número de iterações = {k}\\nErro em |xk - x(k-1)| = {Erro_x}\\nErro em |f(xk)| = {Erro_y} \\nRaiz xk = {n}')  "
   ]
  }
 ],
 "metadata": {
  "kernelspec": {
   "display_name": "Python 3 (ipykernel)",
   "language": "python",
   "name": "python3"
  },
  "language_info": {
   "codemirror_mode": {
    "name": "ipython",
    "version": 3
   },
   "file_extension": ".py",
   "mimetype": "text/x-python",
   "name": "python",
   "nbconvert_exporter": "python",
   "pygments_lexer": "ipython3",
   "version": "3.9.12"
  }
 },
 "nbformat": 4,
 "nbformat_minor": 5
}
